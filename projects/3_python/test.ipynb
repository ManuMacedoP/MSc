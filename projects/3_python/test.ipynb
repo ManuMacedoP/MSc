{
 "cells": [
  {
   "cell_type": "code",
   "execution_count": 1,
   "id": "41fb5c26",
   "metadata": {},
   "outputs": [],
   "source": [
    "import numpy as np"
   ]
  },
  {
   "cell_type": "code",
   "execution_count": 16,
   "id": "5b08fa2e",
   "metadata": {},
   "outputs": [
    {
     "data": {
      "text/plain": [
       "(4, nan)"
      ]
     },
     "execution_count": 16,
     "metadata": {},
     "output_type": "execute_result"
    }
   ],
   "source": [
    "square = lambda x : x**2 if x > 0 else np.nan\n",
    "square(2), square(-1)"
   ]
  },
  {
   "cell_type": "code",
   "execution_count": 21,
   "id": "beb5436e",
   "metadata": {},
   "outputs": [
    {
     "data": {
      "text/plain": [
       "[1, 5, 3]"
      ]
     },
     "execution_count": 21,
     "metadata": {},
     "output_type": "execute_result"
    }
   ],
   "source": [
    "words = ['a', 'basdf', 'cdd']\n",
    "list(map(lambda words : len(words), words))"
   ]
  },
  {
   "cell_type": "code",
   "execution_count": null,
   "id": "5e5913c7",
   "metadata": {},
   "outputs": [
    {
     "data": {
      "text/plain": [
       "[4, 16]"
      ]
     },
     "execution_count": 22,
     "metadata": {},
     "output_type": "execute_result"
    }
   ],
   "source": [
    "b\n",
    "[n**2 for n in test if n % 2 == 0]"
   ]
  },
  {
   "cell_type": "code",
   "execution_count": 5,
   "id": "81ab622c",
   "metadata": {},
   "outputs": [],
   "source": [
    "persona = {\n",
    "    'nombre' : 'Manuel',\n",
    "    'edad' : 26\n",
    "}"
   ]
  },
  {
   "cell_type": "code",
   "execution_count": 8,
   "id": "61d46407",
   "metadata": {},
   "outputs": [
    {
     "data": {
      "text/plain": [
       "26"
      ]
     },
     "execution_count": 8,
     "metadata": {},
     "output_type": "execute_result"
    }
   ],
   "source": [
    "# persona['edad']\n",
    "persona.get('edad', 0)"
   ]
  },
  {
   "cell_type": "code",
   "execution_count": 10,
   "id": "7e2f2a35",
   "metadata": {},
   "outputs": [
    {
     "data": {
      "text/plain": [
       "[{'nombre': 'Ana', 'nota': 8.5}, {'nombre': 'Maria', 'nota': 9.1}]"
      ]
     },
     "metadata": {},
     "output_type": "display_data"
    },
    {
     "data": {
      "text/plain": [
       "7.266666666666666"
      ]
     },
     "metadata": {},
     "output_type": "display_data"
    },
    {
     "data": {
      "text/plain": [
       "{'nombre': 'Maria', 'nota': 9.1}"
      ]
     },
     "metadata": {},
     "output_type": "display_data"
    },
    {
     "data": {
      "text/plain": [
       "{'nombre': 'Juan', 'nota': 4.2}"
      ]
     },
     "metadata": {},
     "output_type": "display_data"
    }
   ],
   "source": [
    "# Procesamiento de datos estilo Python\n",
    "def procesar_estudiantes(estudiantes):\n",
    "    # List comprehension + múltiples retornos\n",
    "    aprobados = [est for est in estudiantes if est[\"nota\"] >= 5]\n",
    "    promedio = sum(est[\"nota\"] for est in estudiantes) / len(estudiantes)\n",
    "    \n",
    "    # Asignación múltiple\n",
    "    mejor_est, peor_est = max(estudiantes, key=lambda x: x[\"nota\"]), min(estudiantes, key=lambda x: x[\"nota\"])\n",
    "    \n",
    "    return aprobados, promedio, mejor_est, peor_est\n",
    "\n",
    "# Uso\n",
    "estudiantes = [\n",
    "    {\"nombre\": \"Ana\", \"nota\": 8.5},\n",
    "    {\"nombre\": \"Juan\", \"nota\": 4.2},\n",
    "    {\"nombre\": \"Maria\", \"nota\": 9.1}\n",
    "]\n",
    "\n",
    "aprobados, promedio, mejor, peor = procesar_estudiantes(estudiantes)\n",
    "display(aprobados, promedio, mejor, peor)"
   ]
  },
  {
   "cell_type": "code",
   "execution_count": 13,
   "id": "9ebd0fc9",
   "metadata": {},
   "outputs": [
    {
     "data": {
      "text/plain": [
       "1"
      ]
     },
     "execution_count": 13,
     "metadata": {},
     "output_type": "execute_result"
    }
   ],
   "source": [
    "def test (num : int) -> str:\n",
    "    return 1 if num > 0 else 0\n",
    "\n",
    "test(9)"
   ]
  },
  {
   "cell_type": "code",
   "execution_count": null,
   "id": "54347fda",
   "metadata": {},
   "outputs": [
    {
     "name": "stdout",
     "output_type": "stream",
     "text": [
      "0\n",
      "1\n",
      "2\n"
     ]
    }
   ],
   "source": [
    "for _ in range(3):\n",
    "    print(_)"
   ]
  },
  {
   "cell_type": "code",
   "execution_count": 20,
   "id": "fefab0a9",
   "metadata": {},
   "outputs": [
    {
     "name": "stdout",
     "output_type": "stream",
     "text": [
      "[2, 3, 4, 5, 5]\n"
     ]
    }
   ],
   "source": [
    "first, *_ = [1,2,3,4,5,5]\n",
    "print (_)"
   ]
  }
 ],
 "metadata": {
  "kernelspec": {
   "display_name": "test11",
   "language": "python",
   "name": "python3"
  },
  "language_info": {
   "codemirror_mode": {
    "name": "ipython",
    "version": 3
   },
   "file_extension": ".py",
   "mimetype": "text/x-python",
   "name": "python",
   "nbconvert_exporter": "python",
   "pygments_lexer": "ipython3",
   "version": "3.11.13"
  }
 },
 "nbformat": 4,
 "nbformat_minor": 5
}
